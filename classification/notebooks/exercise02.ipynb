{
 "cells": [
  {
   "cell_type": "markdown",
   "metadata": {},
   "source": [
    "# Ejercicio 2\n",
    "\n",
    "## Dataset\n",
    "\n",
    "En primer lugar, se importan los datos del archivo de abalones e inspeccionamos rápidamente los datos."
   ]
  },
  {
   "cell_type": "code",
   "execution_count": 1,
   "metadata": {},
   "outputs": [
    {
     "name": "stdout",
     "output_type": "stream",
     "text": [
      "     Gender  Length  Diameter  Height  Full Size  Meat Weight  Viscera Weight  \\\n",
      "0         M   0.455     0.365   0.095     0.5140       0.2245          0.1010   \n",
      "1         M   0.350     0.265   0.090     0.2255       0.0995          0.0485   \n",
      "2         F   0.530     0.420   0.135     0.6770       0.2565          0.1415   \n",
      "3         M   0.440     0.365   0.125     0.5160       0.2155          0.1140   \n",
      "4         I   0.330     0.255   0.080     0.2050       0.0895          0.0395   \n",
      "...     ...     ...       ...     ...        ...          ...             ...   \n",
      "4172      F   0.565     0.450   0.165     0.8870       0.3700          0.2390   \n",
      "4173      M   0.590     0.440   0.135     0.9660       0.4390          0.2145   \n",
      "4174      M   0.600     0.475   0.205     1.1760       0.5255          0.2875   \n",
      "4175      F   0.625     0.485   0.150     1.0945       0.5310          0.2610   \n",
      "4176      M   0.710     0.555   0.195     1.9485       0.9455          0.3765   \n",
      "\n",
      "      Shell Weight  Rings  \n",
      "0           0.1500     15  \n",
      "1           0.0700      7  \n",
      "2           0.2100      9  \n",
      "3           0.1550     10  \n",
      "4           0.0550      7  \n",
      "...            ...    ...  \n",
      "4172        0.2490     11  \n",
      "4173        0.2605     10  \n",
      "4174        0.3080      9  \n",
      "4175        0.2960     10  \n",
      "4176        0.4950     12  \n",
      "\n",
      "[4177 rows x 9 columns]\n"
     ]
    }
   ],
   "source": [
    "import pandas as pd\n",
    "abalones = pd.read_csv(\"../data/abalones.csv\")\n",
    "\n",
    "print(abalones)"
   ]
  },
  {
   "cell_type": "markdown",
   "metadata": {},
   "source": [
    "El data frame consiste de 9 _features_ y 4177 muestras. "
   ]
  },
  {
   "cell_type": "markdown",
   "metadata": {},
   "source": [
    "## Training & Testing Sets\n",
    "\n",
    "Antes de ajustar el modelo, es necesario separar los datos en un _training set_ y un _testing set_."
   ]
  },
  {
   "cell_type": "code",
   "execution_count": 14,
   "metadata": {},
   "outputs": [
    {
     "name": "stdout",
     "output_type": "stream",
     "text": [
      "Training set size: 2798 samples\n",
      "Testing set size: 1379 samples\n"
     ]
    }
   ],
   "source": [
    "from sklearn.model_selection import train_test_split\n",
    "\n",
    "y = abalones[\"Gender\"].to_numpy()\n",
    "X = abalones[[\"Full Size\", \"Rings\", \"Length\"]].to_numpy()\n",
    "\n",
    "# Joining male and female labels into another named A (adult)\n",
    "y[y == 'M'] = 'A'\n",
    "y[y == 'F'] = 'A'\n",
    "\n",
    "X_train, X_test, y_train, y_test = train_test_split(X, y, test_size=0.33, random_state=42)\n",
    "\n",
    "print(\"Training set size: %d samples\" % X_train.shape[0])\n",
    "print(\"Testing set size: %d samples\" % X_test.shape[0])"
   ]
  },
  {
   "cell_type": "markdown",
   "metadata": {},
   "source": [
    "## Ajuste\n",
    "\n",
    "Dicho esto se procede a calcular la regresión logísitica sobre la variable de respuesta `Gender` en base a las siguientes variables exploratorias.\n",
    "\n",
    "- `Length`\n",
    "- `Full Size`\n",
    "- `Rings`\n",
    "- `Length`, `Full Size`, `Rings`\n",
    "\n",
    "### Ajuste en base a la longitud"
   ]
  },
  {
   "cell_type": "code",
   "execution_count": 15,
   "metadata": {},
   "outputs": [],
   "source": [
    "from sklearn.linear_model import LogisticRegression\n",
    "\n",
    "length_train = X_train[:,2].reshape(-1, 1)\n",
    "length_test = X_test[:,2].reshape(-1, 1)\n",
    "\n",
    "# Logistic regression based on length\n",
    "classifier = LogisticRegression().fit(length_train, y_train)"
   ]
  },
  {
   "cell_type": "markdown",
   "metadata": {},
   "source": [
    "Una vez obtenido el modelo se calcula la matriz de confusión y otras métricas."
   ]
  },
  {
   "cell_type": "code",
   "execution_count": 16,
   "metadata": {},
   "outputs": [
    {
     "data": {
      "image/png": "[encoded data removed]",
      "text/plain": [
       "<Figure size 432x288 with 2 Axes>"
      ]
     },
     "metadata": {
      "needs_background": "light"
     },
     "output_type": "display_data"
    }
   ],
   "source": [
    "import matplotlib.pyplot as plt\n",
    "from sklearn.metrics import plot_confusion_matrix\n",
    "from sklearn.metrics import confusion_matrix\n",
    "\n",
    "class_names = [\"A\", \"I\"]\n",
    "\n",
    "y_pred = classifier.predict(length_test)\n",
    "\n",
    "plot_confusion_matrix(classifier, length_test, y_test,\n",
    "                      display_labels=class_names,\n",
    "                      normalize=\"true\")\n",
    "plt.show()"
   ]
  },
  {
   "cell_type": "code",
   "execution_count": 17,
   "metadata": {},
   "outputs": [
    {
     "name": "stdout",
     "output_type": "stream",
     "text": [
      "Accuracy: 0.776650\n",
      "Precision: 0.764083\n",
      "Recall: 0.704534\n"
     ]
    }
   ],
   "source": [
    "from sklearn.metrics import recall_score, precision_score, accuracy_score\n",
    "\n",
    "print(\"Accuracy: %f\" % accuracy_score(y_test, y_pred, normalize=True))\n",
    "print(\"Precision: %f\" % precision_score(y_test, y_pred, average=\"macro\"))\n",
    "print(\"Recall: %f\" % recall_score(y_test, y_pred, average=\"macro\"))"
   ]
  },
  {
   "cell_type": "markdown",
   "metadata": {},
   "source": [
    "### Ajuste basado en el peso total"
   ]
  },
  {
   "cell_type": "code",
   "execution_count": 18,
   "metadata": {},
   "outputs": [],
   "source": [
    "from sklearn.linear_model import LogisticRegression\n",
    "\n",
    "full_size_train = X_train[:,0].reshape(-1, 1)\n",
    "full_size_test = X_test[:,0].reshape(-1, 1)\n",
    "\n",
    "# Logistic regression based on length\n",
    "classifier = LogisticRegression().fit(full_size_train, y_train)"
   ]
  },
  {
   "cell_type": "code",
   "execution_count": 19,
   "metadata": {},
   "outputs": [
    {
     "data": {
      "image/png": "[encoded data removed]",
      "text/plain": [
       "<Figure size 432x288 with 2 Axes>"
      ]
     },
     "metadata": {
      "needs_background": "light"
     },
     "output_type": "display_data"
    }
   ],
   "source": [
    "import matplotlib.pyplot as plt\n",
    "from sklearn.metrics import plot_confusion_matrix\n",
    "from sklearn.metrics import confusion_matrix\n",
    "\n",
    "class_names = [\"A\", \"I\"]\n",
    "\n",
    "y_pred = classifier.predict(full_size_test)\n",
    "\n",
    "plot_confusion_matrix(classifier, full_size_test, y_test,\n",
    "                      display_labels=class_names,\n",
    "                      normalize=\"true\")\n",
    "plt.show()"
   ]
  },
  {
   "cell_type": "code",
   "execution_count": 20,
   "metadata": {},
   "outputs": [
    {
     "name": "stdout",
     "output_type": "stream",
     "text": [
      "Accuracy: 0.796229\n",
      "Precision: 0.771903\n",
      "Recall: 0.756140\n"
     ]
    }
   ],
   "source": [
    "print(\"Accuracy: %f\" % accuracy_score(y_test, y_pred, normalize=True))\n",
    "print(\"Precision: %f\" % precision_score(y_test, y_pred, average=\"macro\"))\n",
    "print(\"Recall: %f\" % recall_score(y_test, y_pred, average=\"macro\"))"
   ]
  },
  {
   "cell_type": "markdown",
   "metadata": {},
   "source": [
    "### Ajuste basado en el anillos"
   ]
  },
  {
   "cell_type": "code",
   "execution_count": 22,
   "metadata": {},
   "outputs": [],
   "source": [
    "from sklearn.linear_model import LogisticRegression\n",
    "\n",
    "rings_train = X_train[:,1].reshape(-1, 1)\n",
    "rings_test = X_test[:,1].reshape(-1, 1)\n",
    "\n",
    "# Logistic regression based on length\n",
    "classifier = LogisticRegression().fit(rings_train, y_train)"
   ]
  },
  {
   "cell_type": "code",
   "execution_count": 23,
   "metadata": {},
   "outputs": [
    {
     "data": {
      "image/png": "[encoded data removed]",
      "text/plain": [
       "<Figure size 432x288 with 2 Axes>"
      ]
     },
     "metadata": {
      "needs_background": "light"
     },
     "output_type": "display_data"
    }
   ],
   "source": [
    "import matplotlib.pyplot as plt\n",
    "from sklearn.metrics import plot_confusion_matrix\n",
    "from sklearn.metrics import confusion_matrix\n",
    "\n",
    "class_names = [\"A\", \"I\"]\n",
    "\n",
    "y_pred = classifier.predict(rings_test)\n",
    "\n",
    "plot_confusion_matrix(classifier, rings_test, y_test,\n",
    "                      display_labels=class_names,\n",
    "                      normalize=\"true\")\n",
    "plt.show()"
   ]
  },
  {
   "cell_type": "code",
   "execution_count": 24,
   "metadata": {},
   "outputs": [
    {
     "name": "stdout",
     "output_type": "stream",
     "text": [
      "Accuracy: 0.783901\n",
      "Precision: 0.774682\n",
      "Recall: 0.712743\n"
     ]
    }
   ],
   "source": [
    "print(\"Accuracy: %f\" % accuracy_score(y_test, y_pred, normalize=True))\n",
    "print(\"Precision: %f\" % precision_score(y_test, y_pred, average=\"macro\"))\n",
    "print(\"Recall: %f\" % recall_score(y_test, y_pred, average=\"macro\"))"
   ]
  },
  {
   "cell_type": "markdown",
   "metadata": {},
   "source": [
    "### Ajuste en base a las tres variables"
   ]
  },
  {
   "cell_type": "code",
   "execution_count": 25,
   "metadata": {},
   "outputs": [],
   "source": [
    "from sklearn.linear_model import LogisticRegression\n",
    "\n",
    "# Logistic regression based on length\n",
    "classifier = LogisticRegression().fit(X_train, y_train)"
   ]
  },
  {
   "cell_type": "code",
   "execution_count": 26,
   "metadata": {},
   "outputs": [
    {
     "data": {
      "image/png": "[encoded data removed]",
      "text/plain": [
       "<Figure size 432x288 with 2 Axes>"
      ]
     },
     "metadata": {
      "needs_background": "light"
     },
     "output_type": "display_data"
    }
   ],
   "source": [
    "import matplotlib.pyplot as plt\n",
    "from sklearn.metrics import plot_confusion_matrix\n",
    "from sklearn.metrics import confusion_matrix\n",
    "\n",
    "class_names = [\"A\", \"I\"]\n",
    "\n",
    "y_pred = classifier.predict(X_test)\n",
    "\n",
    "plot_confusion_matrix(classifier, X_test, y_test,\n",
    "                      display_labels=class_names,\n",
    "                      normalize=\"true\")\n",
    "plt.show()"
   ]
  },
  {
   "cell_type": "code",
   "execution_count": 27,
   "metadata": {},
   "outputs": [
    {
     "name": "stdout",
     "output_type": "stream",
     "text": [
      "Accuracy: 0.817984\n",
      "Precision: 0.796232\n",
      "Recall: 0.785254\n"
     ]
    }
   ],
   "source": [
    "print(\"Accuracy: %f\" % accuracy_score(y_test, y_pred, normalize=True))\n",
    "print(\"Precision: %f\" % precision_score(y_test, y_pred, average=\"macro\"))\n",
    "print(\"Recall: %f\" % recall_score(y_test, y_pred, average=\"macro\"))"
   ]
  }
 ],
 "metadata": {
  "kernelspec": {
   "display_name": "Python 3.7.6 64-bit (conda)",
   "language": "python",
   "name": "python37664bitconda152602e7ac044e9ba24a144db1d36084"
  },
  "language_info": {
   "codemirror_mode": {
    "name": "ipython",
    "version": 3
   },
   "file_extension": ".py",
   "mimetype": "text/x-python",
   "name": "python",
   "nbconvert_exporter": "python",
   "pygments_lexer": "ipython3",
   "version": "3.7.6"
  }
 },
 "nbformat": 4,
 "nbformat_minor": 4
}
