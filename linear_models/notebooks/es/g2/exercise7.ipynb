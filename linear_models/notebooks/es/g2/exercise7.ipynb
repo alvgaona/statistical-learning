{
 "cells": [
  {
   "cell_type": "markdown",
   "metadata": {},
   "source": [
    "# Ejercicio 7\n",
    "\n",
    "Los datos del archivo `concrete.csv` fueron tomados en un estudio experimental para relacionar\n",
    "el calor generado ($Y$) al fraguar 14 muestras de concreto con distinta composición. Las variables\n",
    "explicativas son los pesos (medidos en porcentajes del peso de cada muestra de concreto) de 5\n",
    "componentes del cemento.\n",
    "\n",
    "Se propone el siguiente modelo\n",
    "\n",
    "$$Y_i = \\beta_0 + \\beta_1x_{i1} + \\beta_2x_{i2} + \\beta_3x_{i3} + \\beta_4x_{i4} + \\beta_5x_{i5} + \\epsilon$$\n",
    "\n",
    "Donde $\\left(x_{i1}, x_{i2}, x_{i3}, x_{i4}, x_{i5}\\right)$ son las muestras de las variables explicativas para la observación $Y_i$.\n",
    "\n",
    "La cantidad de muestras es de $n = 14$, por ende se define la siguiente matriz\n",
    "\n",
    "$$\\mathbf{Y} = \\mathbf{X}\\beta$$\n",
    "\n",
    "$$\\begin{bmatrix} y_1 \\\\ y_2 \\\\ \\vdots \\\\ y_n \\end{bmatrix} = \\begin{bmatrix} 1 & x_{11} & x_{12} & \\cdots & x_{1p-1} \\\\ 1 & x_{21} & x_{22} & \\cdots & x_{2p-1} \\\\ \\vdots & \\vdots & \\vdots & \\ddots & \\vdots \\\\ 1 & x_{n1} & x_{n2} & \\cdots & x_{np-1} \\end{bmatrix}\n",
    "\\begin{bmatrix} \\beta_0 \\\\ \\beta_1 \\\\ \\vdots \\\\ \\beta_{p-1} \\end{bmatrix}\n",
    "$$\n",
    "\n",
    "Con $\\mathbf{Y} \\in R^n$ y $\\mathbf{X} \\in R^{n \\times p}$\n",
    "\n"
   ]
  },
  {
   "cell_type": "markdown",
   "metadata": {},
   "source": [
    "Una vez propuesto el modelo y la matriz de diseño $\\mathbf{X}$ se cargan los datos."
   ]
  },
  {
   "cell_type": "code",
   "execution_count": 1,
   "metadata": {},
   "outputs": [
    {
     "data": {
      "text/html": [
       "<table>\n",
       "<caption>A data.frame: 6 × 7</caption>\n",
       "<thead>\n",
       "\t<tr><th></th><th scope=col>obs</th><th scope=col>x1</th><th scope=col>x2</th><th scope=col>x3</th><th scope=col>x4</th><th scope=col>x5</th><th scope=col>y</th></tr>\n",
       "\t<tr><th></th><th scope=col>&lt;int&gt;</th><th scope=col>&lt;int&gt;</th><th scope=col>&lt;int&gt;</th><th scope=col>&lt;int&gt;</th><th scope=col>&lt;int&gt;</th><th scope=col>&lt;dbl&gt;</th><th scope=col>&lt;dbl&gt;</th></tr>\n",
       "</thead>\n",
       "<tbody>\n",
       "\t<tr><th scope=row>1</th><td>1</td><td> 6</td><td> 7</td><td>26</td><td>60</td><td>2.5</td><td> 85.5</td></tr>\n",
       "\t<tr><th scope=row>2</th><td>2</td><td>15</td><td> 1</td><td>29</td><td>52</td><td>2.3</td><td> 76.0</td></tr>\n",
       "\t<tr><th scope=row>3</th><td>3</td><td> 8</td><td>11</td><td>56</td><td>20</td><td>5.0</td><td>110.4</td></tr>\n",
       "\t<tr><th scope=row>4</th><td>4</td><td> 8</td><td>11</td><td>31</td><td>47</td><td>2.4</td><td> 90.6</td></tr>\n",
       "\t<tr><th scope=row>5</th><td>5</td><td> 6</td><td> 7</td><td>52</td><td>33</td><td>2.4</td><td>103.5</td></tr>\n",
       "\t<tr><th scope=row>6</th><td>6</td><td> 9</td><td>11</td><td>55</td><td>22</td><td>2.4</td><td>109.8</td></tr>\n",
       "</tbody>\n",
       "</table>\n"
      ],
      "text/latex": [
       "A data.frame: 6 × 7\n",
       "\\begin{tabular}{r|lllllll}\n",
       "  & obs & x1 & x2 & x3 & x4 & x5 & y\\\\\n",
       "  & <int> & <int> & <int> & <int> & <int> & <dbl> & <dbl>\\\\\n",
       "\\hline\n",
       "\t1 & 1 &  6 &  7 & 26 & 60 & 2.5 &  85.5\\\\\n",
       "\t2 & 2 & 15 &  1 & 29 & 52 & 2.3 &  76.0\\\\\n",
       "\t3 & 3 &  8 & 11 & 56 & 20 & 5.0 & 110.4\\\\\n",
       "\t4 & 4 &  8 & 11 & 31 & 47 & 2.4 &  90.6\\\\\n",
       "\t5 & 5 &  6 &  7 & 52 & 33 & 2.4 & 103.5\\\\\n",
       "\t6 & 6 &  9 & 11 & 55 & 22 & 2.4 & 109.8\\\\\n",
       "\\end{tabular}\n"
      ],
      "text/markdown": [
       "\n",
       "A data.frame: 6 × 7\n",
       "\n",
       "| <!--/--> | obs &lt;int&gt; | x1 &lt;int&gt; | x2 &lt;int&gt; | x3 &lt;int&gt; | x4 &lt;int&gt; | x5 &lt;dbl&gt; | y &lt;dbl&gt; |\n",
       "|---|---|---|---|---|---|---|---|\n",
       "| 1 | 1 |  6 |  7 | 26 | 60 | 2.5 |  85.5 |\n",
       "| 2 | 2 | 15 |  1 | 29 | 52 | 2.3 |  76.0 |\n",
       "| 3 | 3 |  8 | 11 | 56 | 20 | 5.0 | 110.4 |\n",
       "| 4 | 4 |  8 | 11 | 31 | 47 | 2.4 |  90.6 |\n",
       "| 5 | 5 |  6 |  7 | 52 | 33 | 2.4 | 103.5 |\n",
       "| 6 | 6 |  9 | 11 | 55 | 22 | 2.4 | 109.8 |\n",
       "\n"
      ],
      "text/plain": [
       "  obs x1 x2 x3 x4 x5  y    \n",
       "1 1    6  7 26 60 2.5  85.5\n",
       "2 2   15  1 29 52 2.3  76.0\n",
       "3 3    8 11 56 20 5.0 110.4\n",
       "4 4    8 11 31 47 2.4  90.6\n",
       "5 5    6  7 52 33 2.4 103.5\n",
       "6 6    9 11 55 22 2.4 109.8"
      ]
     },
     "metadata": {},
     "output_type": "display_data"
    }
   ],
   "source": [
    "concrete <- read.csv(\"../../../data/concrete.csv\")\n",
    "head(concrete)"
   ]
  },
  {
   "cell_type": "markdown",
   "metadata": {},
   "source": [
    "En primer lugar, se analizará la correlación entre las variables explicativas y la observada."
   ]
  },
  {
   "cell_type": "code",
   "execution_count": 13,
   "metadata": {},
   "outputs": [
    {
     "data": {
      "text/html": [
       "<table>\n",
       "<caption>A data.frame: 14 × 6</caption>\n",
       "<thead>\n",
       "\t<tr><th></th><th scope=col>x1</th><th scope=col>x2</th><th scope=col>x3</th><th scope=col>x4</th><th scope=col>x5</th><th scope=col>y</th></tr>\n",
       "\t<tr><th></th><th scope=col>&lt;int&gt;</th><th scope=col>&lt;int&gt;</th><th scope=col>&lt;int&gt;</th><th scope=col>&lt;int&gt;</th><th scope=col>&lt;dbl&gt;</th><th scope=col>&lt;dbl&gt;</th></tr>\n",
       "</thead>\n",
       "<tbody>\n",
       "\t<tr><th scope=row>1</th><td> 6</td><td> 7</td><td>26</td><td>60</td><td>2.5</td><td> 85.5</td></tr>\n",
       "\t<tr><th scope=row>2</th><td>15</td><td> 1</td><td>29</td><td>52</td><td>2.3</td><td> 76.0</td></tr>\n",
       "\t<tr><th scope=row>3</th><td> 8</td><td>11</td><td>56</td><td>20</td><td>5.0</td><td>110.4</td></tr>\n",
       "\t<tr><th scope=row>4</th><td> 8</td><td>11</td><td>31</td><td>47</td><td>2.4</td><td> 90.6</td></tr>\n",
       "\t<tr><th scope=row>5</th><td> 6</td><td> 7</td><td>52</td><td>33</td><td>2.4</td><td>103.5</td></tr>\n",
       "\t<tr><th scope=row>6</th><td> 9</td><td>11</td><td>55</td><td>22</td><td>2.4</td><td>109.8</td></tr>\n",
       "\t<tr><th scope=row>7</th><td>17</td><td> 3</td><td>71</td><td> 6</td><td>2.1</td><td>108.0</td></tr>\n",
       "\t<tr><th scope=row>8</th><td>22</td><td> 1</td><td>31</td><td>44</td><td>2.2</td><td> 71.6</td></tr>\n",
       "\t<tr><th scope=row>9</th><td>18</td><td> 2</td><td>54</td><td>22</td><td>2.3</td><td> 97.0</td></tr>\n",
       "\t<tr><th scope=row>10</th><td> 4</td><td>21</td><td>47</td><td>26</td><td>2.5</td><td>122.7</td></tr>\n",
       "\t<tr><th scope=row>11</th><td>23</td><td> 1</td><td>40</td><td>34</td><td>2.2</td><td> 83.1</td></tr>\n",
       "\t<tr><th scope=row>12</th><td> 9</td><td>11</td><td>66</td><td>12</td><td>2.6</td><td>115.4</td></tr>\n",
       "\t<tr><th scope=row>13</th><td> 8</td><td>10</td><td>68</td><td>12</td><td>2.4</td><td>116.3</td></tr>\n",
       "\t<tr><th scope=row>14</th><td>18</td><td> 1</td><td>17</td><td>61</td><td>2.1</td><td> 62.6</td></tr>\n",
       "</tbody>\n",
       "</table>\n"
      ],
      "text/latex": [
       "A data.frame: 14 × 6\n",
       "\\begin{tabular}{r|llllll}\n",
       "  & x1 & x2 & x3 & x4 & x5 & y\\\\\n",
       "  & <int> & <int> & <int> & <int> & <dbl> & <dbl>\\\\\n",
       "\\hline\n",
       "\t1 &  6 &  7 & 26 & 60 & 2.5 &  85.5\\\\\n",
       "\t2 & 15 &  1 & 29 & 52 & 2.3 &  76.0\\\\\n",
       "\t3 &  8 & 11 & 56 & 20 & 5.0 & 110.4\\\\\n",
       "\t4 &  8 & 11 & 31 & 47 & 2.4 &  90.6\\\\\n",
       "\t5 &  6 &  7 & 52 & 33 & 2.4 & 103.5\\\\\n",
       "\t6 &  9 & 11 & 55 & 22 & 2.4 & 109.8\\\\\n",
       "\t7 & 17 &  3 & 71 &  6 & 2.1 & 108.0\\\\\n",
       "\t8 & 22 &  1 & 31 & 44 & 2.2 &  71.6\\\\\n",
       "\t9 & 18 &  2 & 54 & 22 & 2.3 &  97.0\\\\\n",
       "\t10 &  4 & 21 & 47 & 26 & 2.5 & 122.7\\\\\n",
       "\t11 & 23 &  1 & 40 & 34 & 2.2 &  83.1\\\\\n",
       "\t12 &  9 & 11 & 66 & 12 & 2.6 & 115.4\\\\\n",
       "\t13 &  8 & 10 & 68 & 12 & 2.4 & 116.3\\\\\n",
       "\t14 & 18 &  1 & 17 & 61 & 2.1 &  62.6\\\\\n",
       "\\end{tabular}\n"
      ],
      "text/markdown": [
       "\n",
       "A data.frame: 14 × 6\n",
       "\n",
       "| <!--/--> | x1 &lt;int&gt; | x2 &lt;int&gt; | x3 &lt;int&gt; | x4 &lt;int&gt; | x5 &lt;dbl&gt; | y &lt;dbl&gt; |\n",
       "|---|---|---|---|---|---|---|\n",
       "| 1 |  6 |  7 | 26 | 60 | 2.5 |  85.5 |\n",
       "| 2 | 15 |  1 | 29 | 52 | 2.3 |  76.0 |\n",
       "| 3 |  8 | 11 | 56 | 20 | 5.0 | 110.4 |\n",
       "| 4 |  8 | 11 | 31 | 47 | 2.4 |  90.6 |\n",
       "| 5 |  6 |  7 | 52 | 33 | 2.4 | 103.5 |\n",
       "| 6 |  9 | 11 | 55 | 22 | 2.4 | 109.8 |\n",
       "| 7 | 17 |  3 | 71 |  6 | 2.1 | 108.0 |\n",
       "| 8 | 22 |  1 | 31 | 44 | 2.2 |  71.6 |\n",
       "| 9 | 18 |  2 | 54 | 22 | 2.3 |  97.0 |\n",
       "| 10 |  4 | 21 | 47 | 26 | 2.5 | 122.7 |\n",
       "| 11 | 23 |  1 | 40 | 34 | 2.2 |  83.1 |\n",
       "| 12 |  9 | 11 | 66 | 12 | 2.6 | 115.4 |\n",
       "| 13 |  8 | 10 | 68 | 12 | 2.4 | 116.3 |\n",
       "| 14 | 18 |  1 | 17 | 61 | 2.1 |  62.6 |\n",
       "\n"
      ],
      "text/plain": [
       "   x1 x2 x3 x4 x5  y    \n",
       "1   6  7 26 60 2.5  85.5\n",
       "2  15  1 29 52 2.3  76.0\n",
       "3   8 11 56 20 5.0 110.4\n",
       "4   8 11 31 47 2.4  90.6\n",
       "5   6  7 52 33 2.4 103.5\n",
       "6   9 11 55 22 2.4 109.8\n",
       "7  17  3 71  6 2.1 108.0\n",
       "8  22  1 31 44 2.2  71.6\n",
       "9  18  2 54 22 2.3  97.0\n",
       "10  4 21 47 26 2.5 122.7\n",
       "11 23  1 40 34 2.2  83.1\n",
       "12  9 11 66 12 2.6 115.4\n",
       "13  8 10 68 12 2.4 116.3\n",
       "14 18  1 17 61 2.1  62.6"
      ]
     },
     "metadata": {},
     "output_type": "display_data"
    }
   ],
   "source": [
    "# Removemos la columna obs\n",
    "library(dplyr)\n",
    "df <- select(concrete, -obs)\n",
    "head(df, n = 14)"
   ]
  },
  {
   "cell_type": "code",
   "execution_count": 3,
   "metadata": {},
   "outputs": [
    {
     "data": {
      "text/html": [
       "<table>\n",
       "<caption>A matrix: 6 × 6 of type dbl</caption>\n",
       "<thead>\n",
       "\t<tr><th></th><th scope=col>x1</th><th scope=col>x2</th><th scope=col>x3</th><th scope=col>x4</th><th scope=col>x5</th><th scope=col>y</th></tr>\n",
       "</thead>\n",
       "<tbody>\n",
       "\t<tr><th scope=row>x1</th><td> 1.0000000</td><td>-0.8371285</td><td>-0.2445176</td><td> 0.1449750</td><td>-0.3516787</td><td>-0.6441207</td></tr>\n",
       "\t<tr><th scope=row>x2</th><td>-0.8371285</td><td> 1.0000000</td><td> 0.3331646</td><td>-0.3425012</td><td> 0.3420363</td><td> 0.7648638</td></tr>\n",
       "\t<tr><th scope=row>x3</th><td>-0.2445176</td><td> 0.3331646</td><td> 1.0000000</td><td>-0.9784705</td><td> 0.2135296</td><td> 0.8507953</td></tr>\n",
       "\t<tr><th scope=row>x4</th><td> 0.1449750</td><td>-0.3425012</td><td>-0.9784705</td><td> 1.0000000</td><td>-0.2227983</td><td>-0.8316130</td></tr>\n",
       "\t<tr><th scope=row>x5</th><td>-0.3516787</td><td> 0.3420363</td><td> 0.2135296</td><td>-0.2227983</td><td> 1.0000000</td><td> 0.3273488</td></tr>\n",
       "\t<tr><th scope=row>y</th><td>-0.6441207</td><td> 0.7648638</td><td> 0.8507953</td><td>-0.8316130</td><td> 0.3273488</td><td> 1.0000000</td></tr>\n",
       "</tbody>\n",
       "</table>\n"
      ],
      "text/latex": [
       "A matrix: 6 × 6 of type dbl\n",
       "\\begin{tabular}{r|llllll}\n",
       "  & x1 & x2 & x3 & x4 & x5 & y\\\\\n",
       "\\hline\n",
       "\tx1 &  1.0000000 & -0.8371285 & -0.2445176 &  0.1449750 & -0.3516787 & -0.6441207\\\\\n",
       "\tx2 & -0.8371285 &  1.0000000 &  0.3331646 & -0.3425012 &  0.3420363 &  0.7648638\\\\\n",
       "\tx3 & -0.2445176 &  0.3331646 &  1.0000000 & -0.9784705 &  0.2135296 &  0.8507953\\\\\n",
       "\tx4 &  0.1449750 & -0.3425012 & -0.9784705 &  1.0000000 & -0.2227983 & -0.8316130\\\\\n",
       "\tx5 & -0.3516787 &  0.3420363 &  0.2135296 & -0.2227983 &  1.0000000 &  0.3273488\\\\\n",
       "\ty & -0.6441207 &  0.7648638 &  0.8507953 & -0.8316130 &  0.3273488 &  1.0000000\\\\\n",
       "\\end{tabular}\n"
      ],
      "text/markdown": [
       "\n",
       "A matrix: 6 × 6 of type dbl\n",
       "\n",
       "| <!--/--> | x1 | x2 | x3 | x4 | x5 | y |\n",
       "|---|---|---|---|---|---|---|\n",
       "| x1 |  1.0000000 | -0.8371285 | -0.2445176 |  0.1449750 | -0.3516787 | -0.6441207 |\n",
       "| x2 | -0.8371285 |  1.0000000 |  0.3331646 | -0.3425012 |  0.3420363 |  0.7648638 |\n",
       "| x3 | -0.2445176 |  0.3331646 |  1.0000000 | -0.9784705 |  0.2135296 |  0.8507953 |\n",
       "| x4 |  0.1449750 | -0.3425012 | -0.9784705 |  1.0000000 | -0.2227983 | -0.8316130 |\n",
       "| x5 | -0.3516787 |  0.3420363 |  0.2135296 | -0.2227983 |  1.0000000 |  0.3273488 |\n",
       "| y | -0.6441207 |  0.7648638 |  0.8507953 | -0.8316130 |  0.3273488 |  1.0000000 |\n",
       "\n"
      ],
      "text/plain": [
       "   x1         x2         x3         x4         x5         y         \n",
       "x1  1.0000000 -0.8371285 -0.2445176  0.1449750 -0.3516787 -0.6441207\n",
       "x2 -0.8371285  1.0000000  0.3331646 -0.3425012  0.3420363  0.7648638\n",
       "x3 -0.2445176  0.3331646  1.0000000 -0.9784705  0.2135296  0.8507953\n",
       "x4  0.1449750 -0.3425012 -0.9784705  1.0000000 -0.2227983 -0.8316130\n",
       "x5 -0.3516787  0.3420363  0.2135296 -0.2227983  1.0000000  0.3273488\n",
       "y  -0.6441207  0.7648638  0.8507953 -0.8316130  0.3273488  1.0000000"
      ]
     },
     "metadata": {},
     "output_type": "display_data"
    }
   ],
   "source": [
    "cor(df)"
   ]
  },
  {
   "cell_type": "markdown",
   "metadata": {},
   "source": [
    "Al observar la matriz de correlación es posible pensar que las variables $X_3$ y $X_4$ explicarían a $Y$.\n",
    "\n",
    "El próximo paso es realizar la regresión lineal para estimar los parámetros asociados a las variables explicativas.\n",
    "Para ellos se calculará el estimador de cuadrados mínimos.\n",
    "\n",
    "$$\\hat{\\mathbf{Y}} = \\mathbf{X}\\hat{\\beta}$$  "
   ]
  },
  {
   "cell_type": "code",
   "execution_count": 4,
   "metadata": {},
   "outputs": [
    {
     "data": {
      "text/plain": [
       "\n",
       "Call:\n",
       "lm(formula = y ~ x1 + x2 + x3 + x4 + x5, data = df)\n",
       "\n",
       "Residuals:\n",
       "     Min       1Q   Median       3Q      Max \n",
       "-2.58166 -2.17473 -0.05122  1.84522  3.11955 \n",
       "\n",
       "Coefficients:\n",
       "            Estimate Std. Error t value Pr(>|t|)\n",
       "(Intercept)  73.6101   105.9653   0.695    0.507\n",
       "x1           -0.4497     1.1312  -0.398    0.701\n",
       "x2            1.2995     1.0660   1.219    0.258\n",
       "x3            0.5630     1.0587   0.532    0.609\n",
       "x4           -0.1704     1.0494  -0.162    0.875\n",
       "x5           -0.3859     1.5221  -0.254    0.806\n",
       "\n",
       "Residual standard error: 2.7 on 8 degrees of freedom\n",
       "Multiple R-squared:  0.9871,\tAdjusted R-squared:  0.979 \n",
       "F-statistic: 122.2 on 5 and 8 DF,  p-value: 2.48e-07\n"
      ]
     },
     "metadata": {},
     "output_type": "display_data"
    }
   ],
   "source": [
    "model <- lm(y~x1+x2+x3+x4+x5, data = df)\n",
    "summary(model)"
   ]
  },
  {
   "cell_type": "markdown",
   "metadata": {},
   "source": [
    "Observamos que el ECM de $\\beta$ es\n",
    "\n",
    "$$\\hat{\\beta} = \\begin{bmatrix} 73.6101 \\\\ -0.4497 \\\\ 1.2995 \\\\ 0.5630 \\\\ -0.1704 \\\\ -0.3859 \\end{bmatrix}$$\n",
    "\n",
    "Para confirmar lo anterior, es necesario hacer el test de significación para la regresión lineal.\n",
    "\n",
    "Este test de hipótesis define sus hipótesis como\n",
    "\n",
    "$$H_0: \\mathbf{C}\\beta = 0$$\n",
    "\n",
    "$$H_1: \\mathbf{C}\\beta \\neq 0$$ \n",
    "\n",
    "Donde\n",
    "\n",
    "$$\\mathbf{C} = \\mathbf{I}_{5,5}$$\n",
    "\n",
    "A partir de `summary` se ve que el `p-value` es `2.48e-07` menor a `0.05` rechazando la hipótesis alternativa para el test multivariable. Sin embargo, los test de Student individuales rechazan la hipótesis nula encontrando una contradicción.\n",
    "\n",
    "De esta manera podría hacerse una nueva regresión dado a que la matriz de diseño no tiene rango completo ya que la columna de `1` es combinación lineal del resto ya que la suma de las proporciones de la muestra suman 1.\n",
    "\n",
    "Dado que las composiciones no suman exactamente 1 por distintas fuentes de errores en las muestras, se calcula el número de condición para verificar si la matriz de diseño esta bien condicionada."
   ]
  },
  {
   "cell_type": "code",
   "execution_count": 5,
   "metadata": {},
   "outputs": [
    {
     "data": {
      "text/html": [
       "7202.36496223213"
      ],
      "text/latex": [
       "7202.36496223213"
      ],
      "text/markdown": [
       "7202.36496223213"
      ],
      "text/plain": [
       "[1] 7202.365"
      ]
     },
     "metadata": {},
     "output_type": "display_data"
    }
   ],
   "source": [
    "ones <- matrix(1, NROW(concrete), 1)\n",
    "X <- cbind(ones, concrete$x1, concrete$x2, concrete$x3, concrete$x4, concrete$x5)\n",
    "kappa(X)"
   ]
  },
  {
   "cell_type": "markdown",
   "metadata": {},
   "source": [
    "Así se ve que la matrix de diseño tiene un número de condición mucho mayor que 1. De esta manera, es posible eliminar variables o hacer una regresión lineal sin el intercept para que el número de condición mejore."
   ]
  },
  {
   "cell_type": "markdown",
   "metadata": {},
   "source": [
    "En ambas regresiones\n",
    "\n",
    "**Modelo sin intercept**: $$Y_i = \\beta_1x_{i1} + \\beta_2x_{i2} + \\beta_3x_{i3} + \\beta_4x_{i4} + \\beta_5x_{i5} + \\epsilon$$"
   ]
  },
  {
   "cell_type": "code",
   "execution_count": 6,
   "metadata": {},
   "outputs": [
    {
     "data": {
      "text/html": [
       "84.3477715554716"
      ],
      "text/latex": [
       "84.3477715554716"
      ],
      "text/markdown": [
       "84.3477715554716"
      ],
      "text/plain": [
       "[1] 84.34777"
      ]
     },
     "metadata": {},
     "output_type": "display_data"
    }
   ],
   "source": [
    "X2 <- cbind(concrete$x1, concrete$x2, concrete$x3, concrete$x4, concrete$x5)\n",
    "kappa(X2)"
   ]
  },
  {
   "cell_type": "code",
   "execution_count": 7,
   "metadata": {},
   "outputs": [
    {
     "data": {
      "text/plain": [
       "\n",
       "Call:\n",
       "lm(formula = y ~ x1 + x2 + x3 + x4 + x5 - 1, data = df)\n",
       "\n",
       "Residuals:\n",
       "    Min      1Q  Median      3Q     Max \n",
       "-3.1390 -1.9789  0.1514  1.5559  3.9401 \n",
       "\n",
       "Coefficients:\n",
       "   Estimate Std. Error t value Pr(>|t|)    \n",
       "x1  0.32652    0.17086   1.911   0.0883 .  \n",
       "x2  2.02517    0.20611   9.826 4.14e-06 ***\n",
       "x3  1.29718    0.05993  21.646 4.52e-09 ***\n",
       "x4  0.55768    0.05039  11.067 1.53e-06 ***\n",
       "x5  0.35444    1.05496   0.336   0.7446    \n",
       "---\n",
       "Signif. codes:  0 ‘***’ 0.001 ‘**’ 0.01 ‘*’ 0.05 ‘.’ 0.1 ‘ ’ 1\n",
       "\n",
       "Residual standard error: 2.621 on 9 degrees of freedom\n",
       "Multiple R-squared:  0.9995,\tAdjusted R-squared:  0.9993 \n",
       "F-statistic:  3933 on 5 and 9 DF,  p-value: 9.691e-15\n"
      ]
     },
     "metadata": {},
     "output_type": "display_data"
    }
   ],
   "source": [
    "no_intercept <- lm(y~x1+x2+x3+x4+x5-1, data = df)\n",
    "summary(no_intercept)"
   ]
  },
  {
   "cell_type": "markdown",
   "metadata": {},
   "source": [
    "Se observa, a partir de la regresión lineal sin intercept, que las variables que explican $Y$ son $(X_2, X_3, X_4)$.\n",
    "\n",
    "A partir de la matriz de correlación se hubiera elegido $X_3$ y $X_4$ y $X_2$ se hubiera descartado al tener dudas. Haciendo un análisis más exhaustivo confirmamos que descartar $X_2$ hubiese sido un error."
   ]
  },
  {
   "cell_type": "markdown",
   "metadata": {},
   "source": [
    "**Modelo sin $X_5$**: $$Y_i = \\beta_0 + \\beta_1x_{i1} + \\beta_2x_{i2} + \\beta_3x_{i3} + \\beta_4x_{i4} + \\epsilon$$\n",
    "\n",
    "Se eliminó $X_5$ a partir de la matriz de correlación."
   ]
  },
  {
   "cell_type": "code",
   "execution_count": 8,
   "metadata": {},
   "outputs": [
    {
     "data": {
      "text/html": [
       "6881.53007239408"
      ],
      "text/latex": [
       "6881.53007239408"
      ],
      "text/markdown": [
       "6881.53007239408"
      ],
      "text/plain": [
       "[1] 6881.53"
      ]
     },
     "metadata": {},
     "output_type": "display_data"
    }
   ],
   "source": [
    "ones <- matrix(1, NROW(concrete), 1)\n",
    "X3 <- cbind(ones, concrete$x1, concrete$x2, concrete$x3, concrete$x4)\n",
    "kappa(X3)"
   ]
  },
  {
   "cell_type": "code",
   "execution_count": 9,
   "metadata": {},
   "outputs": [
    {
     "data": {
      "text/plain": [
       "\n",
       "Call:\n",
       "lm(formula = y ~ x1 + x2 + x3 + x4, data = df)\n",
       "\n",
       "Residuals:\n",
       "    Min      1Q  Median      3Q     Max \n",
       "-2.6909 -2.0192 -0.0227  1.7319  3.3357 \n",
       "\n",
       "Coefficients:\n",
       "            Estimate Std. Error t value Pr(>|t|)  \n",
       "(Intercept) 54.79776   71.61180   0.765   0.4637  \n",
       "x1          -0.25239    0.77707  -0.325   0.7528  \n",
       "x2           1.47631    0.76319   1.934   0.0851 .\n",
       "x3           0.74473    0.73754   1.010   0.3390  \n",
       "x4           0.01097    0.72680   0.015   0.9883  \n",
       "---\n",
       "Signif. codes:  0 ‘***’ 0.001 ‘**’ 0.01 ‘*’ 0.05 ‘.’ 0.1 ‘ ’ 1\n",
       "\n",
       "Residual standard error: 2.556 on 9 degrees of freedom\n",
       "Multiple R-squared:  0.987,\tAdjusted R-squared:  0.9812 \n",
       "F-statistic: 170.4 on 4 and 9 DF,  p-value: 1.791e-08\n"
      ]
     },
     "metadata": {},
     "output_type": "display_data"
    }
   ],
   "source": [
    "reduced_model <- lm(y~x1+x2+x3+x4, data = df)\n",
    "summary(reduced_model)"
   ]
  },
  {
   "cell_type": "markdown",
   "metadata": {},
   "source": [
    "Agregando el intercept y elimnando $X_5$ se tiene una contradiccíon nuevamente para $H_0$. \n",
    "\n",
    "Sin embargo con el test sin intercept vimos que $X_1$ no aporta a $Y$."
   ]
  },
  {
   "cell_type": "markdown",
   "metadata": {},
   "source": [
    "Se propone elimnar $X_5$ y $X_1$ del modelo.\n",
    "\n",
    "**Modelo**: $$Y_i = \\beta_0 + \\beta_2x_{i2} + \\beta_3x_{i3} + \\beta_4x_{i4} + \\epsilon$$"
   ]
  },
  {
   "cell_type": "code",
   "execution_count": 10,
   "metadata": {},
   "outputs": [
    {
     "data": {
      "text/html": [
       "1281.19324501398"
      ],
      "text/latex": [
       "1281.19324501398"
      ],
      "text/markdown": [
       "1281.19324501398"
      ],
      "text/plain": [
       "[1] 1281.193"
      ]
     },
     "metadata": {},
     "output_type": "display_data"
    }
   ],
   "source": [
    "ones <- matrix(1, NROW(concrete), 1)\n",
    "X4 <- cbind(ones, concrete$x2, concrete$x3, concrete$x4)\n",
    "kappa(X4)"
   ]
  },
  {
   "cell_type": "code",
   "execution_count": 11,
   "metadata": {},
   "outputs": [
    {
     "data": {
      "text/plain": [
       "\n",
       "Call:\n",
       "lm(formula = y ~ x2 + x3 + x4, data = df)\n",
       "\n",
       "Residuals:\n",
       "    Min      1Q  Median      3Q     Max \n",
       "-2.9380 -2.0911  0.0443  1.6457  3.5637 \n",
       "\n",
       "Coefficients:\n",
       "            Estimate Std. Error t value Pr(>|t|)    \n",
       "(Intercept)  32.0783    14.6424   2.191  0.05327 .  \n",
       "x2            1.7207     0.1218  14.123 6.23e-08 ***\n",
       "x3            0.9752     0.1915   5.092  0.00047 ***\n",
       "x4            0.2388     0.1818   1.313  0.21844    \n",
       "---\n",
       "Signif. codes:  0 ‘***’ 0.001 ‘**’ 0.01 ‘*’ 0.05 ‘.’ 0.1 ‘ ’ 1\n",
       "\n",
       "Residual standard error: 2.439 on 10 degrees of freedom\n",
       "Multiple R-squared:  0.9868,\tAdjusted R-squared:  0.9829 \n",
       "F-statistic: 249.5 on 3 and 10 DF,  p-value: 1.072e-09\n"
      ]
     },
     "metadata": {},
     "output_type": "display_data"
    }
   ],
   "source": [
    "last_model <- lm(y~x2+x3+x4, data = df)\n",
    "summary(last_model)"
   ]
  },
  {
   "cell_type": "markdown",
   "metadata": {},
   "source": [
    "Con este nuevo modelo se observa que sólo $X_2$ y $X_3$ explican a $Y$.\n",
    "\n",
    "Comparando el modelo sin $X_2$ y $X_3$, y el modelo sin intercept a partir de $R_a^2$, el modelo sin intercept es el más adecuado sumado a que la matriz de diseño del model sin intercept se encuentra mucho mejor condicionada."
   ]
  }
 ],
 "metadata": {
  "kernelspec": {
   "display_name": "R",
   "language": "R",
   "name": "ir"
  },
  "language_info": {
   "codemirror_mode": "r",
   "file_extension": ".r",
   "mimetype": "text/x-r-source",
   "name": "R",
   "pygments_lexer": "r",
   "version": "3.6.3"
  }
 },
 "nbformat": 4,
 "nbformat_minor": 4
}
